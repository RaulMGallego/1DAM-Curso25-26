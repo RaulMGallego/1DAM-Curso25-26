{
 "cells": [
  {
   "cell_type": "markdown",
   "metadata": {},
   "source": [
    "# ☕ Introducción a Java en Jupyter\n",
    "Este cuaderno funciona como un Google Colab pero para **Java**.\n",
    "\n",
    "Aquí veremos teoría + ejemplos ejecutables en el mismo documento.\n",
    "\n",
    "## Temario inicial\n",
    "- Variables y tipos de datos\n",
    "- Condicionales\n",
    "- Bucles\n",
    "- Clases y Objetos"
   ]
  },
  {
   "cell_type": "markdown",
   "metadata": {},
   "source": [
    "## 🔹 Variables y tipos básicos\n",
    "En Java, siempre declaramos el tipo de la variable antes del nombre."
   ]
  },
  {
   "cell_type": "code",
   "execution_count": null,
   "metadata": {},
   "outputs": [],
   "source": [
    "int edad = 20;\n",
    "double altura = 1.75;\n",
    "String nombre = \"Ana\";\n",
    "\n",
    "System.out.println(\"Nombre: \" + nombre);\n",
    "System.out.println(\"Edad: \" + edad);\n",
    "System.out.println(\"Altura: \" + altura);"
   ]
  },
  {
   "cell_type": "markdown",
   "metadata": {},
   "source": [
    "## 🔹 Condicionales\n",
    "Con `if` podemos tomar decisiones según condiciones."
   ]
  },
  {
   "cell_type": "code",
   "execution_count": null,
   "metadata": {},
   "outputs": [],
   "source": [
    "int nota = 7;\n",
    "if (nota >= 5) {\n",
    "    System.out.println(\"Aprobado\");\n",
    "} else {\n",
    "    System.out.println(\"Suspenso\");\n",
    "}"
   ]
  },
  {
   "cell_type": "markdown",
   "metadata": {},
   "source": [
    "## 🔹 Bucles\n",
    "Podemos repetir instrucciones con `for` o `while`."
   ]
  },
  {
   "cell_type": "code",
   "execution_count": null,
   "metadata": {},
   "outputs": [],
   "source": [
    "// Bucle for\n",
    "for (int i = 1; i <= 5; i++) {\n",
    "    System.out.println(\"Número: \" + i);\n",
    "}\n",
    "\n",
    "// Bucle while\n",
    "int j = 1;\n",
    "while (j <= 3) {\n",
    "    System.out.println(\"Iteración: \" + j);\n",
    "    j++;\n",
    "}"
   ]
  },
  {
   "cell_type": "markdown",
   "metadata": {},
   "source": [
    "## 🔹 Clases y Objetos\n",
    "Java es orientado a objetos. Vamos a crear una clase `Alumno` con atributos y un método."
   ]
  },
  {
   "cell_type": "code",
   "execution_count": null,
   "metadata": {},
   "outputs": [],
   "source": [
    "class Alumno {\n",
    "    String nombre;\n",
    "    int edad;\n",
    "\n",
    "    Alumno(String nombre, int edad) {\n",
    "        this.nombre = nombre;\n",
    "        this.edad = edad;\n",
    "    }\n",
    "\n",
    "    void presentarse() {\n",
    "        System.out.println(\"Hola, soy \" + nombre + \" y tengo \" + edad + \" años.\");\n",
    "    }\n",
    "}\n",
    "\n",
    "Alumno a1 = new Alumno(\"Lucía\", 21);\n",
    "a1.presentarse();"
   ]
  },
  {
   "cell_type": "markdown",
   "metadata": {},
   "source": [
    "🎯 **Ejercicio propuesto:**\n",
    "1. Crea una clase `Coche` con atributos `marca` y `velocidad`.\n",
    "2. Añade un método `acelerar()` que sume 10 a la velocidad.\n",
    "3. Instancia un objeto y haz que acelere varias veces."
   ]
  }
 ],
 "metadata": {
  "kernelspec": {
   "display_name": "Java",
   "language": "java",
   "name": "java"
  },
  "language_info": {
   "name": "java",
   "version": "17"
  }
 },
 "nbformat": 4,
 "nbformat_minor": 5
}
